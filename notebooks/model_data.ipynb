{
 "cells": [
  {
   "cell_type": "code",
   "execution_count": 54,
   "metadata": {},
   "outputs": [],
   "source": [
    "class Transform:\n",
    "    def __init__(self):\n",
    "        pass\n",
    "    \n",
    "    def pay_transform(self, pay_filepath, claims_filepath):\n",
    "        \"\"\"\n",
    "        Transforms raw data into grouped values of all patient payments made, both out of pocket and insurance\n",
    "\n",
    "        :param filepaths: paths to respective pay and claims tables\n",
    "        :return : merged table with Total of all patient payments over course of entire patient life\n",
    "        \"\"\"\n",
    "\n",
    "        # clean and transform pay table\n",
    "        pay = pd.read_csv(pay_filepath, usecols=['PayDate', 'PatNum', 'PayAmt'])\n",
    "        pay = pay[pay['PayDate'] != '2020-12-22']\n",
    "        grouped_pay = pay.groupby(\"PatNum\", as_index=False)['PayAmt'].sum()\n",
    "\n",
    "        # clean and transform claims table\n",
    "        claims = pd.read_csv(claims_filepath, engine='python', error_bad_lines=False,\n",
    "                             usecols=['PatNum', 'DateReceived', 'InsPayAmt'])\n",
    "        claims = claims[claims['DateReceived'] != '0001-01-01']\n",
    "        claims.loc[17482, 'InsPayAmt'] = 754\n",
    "        claims.drop('DateReceived', axis=1, inplace=True)\n",
    "        grouped_claims = claims.groupby('PatNum', as_index=False).sum()\n",
    "\n",
    "        # merge tables and create \"TOTAL\" for further use\n",
    "        merged = grouped_claims.merge(grouped_pay)\n",
    "        merged['Total'] = merged['InsPayAmt'] + merged['PayAmt']\n",
    "        merged = merged.loc[:, ['PatNum', 'Total']]\n",
    "\n",
    "        #merged.to_csv('../data/model/total.csv', index=False)\n",
    "        return merged\n",
    "    \n",
    "    def patient_transform(self, appt_filepath, pat_filepath, total_filepath=None):\n",
    "        patient_cols = ['PatNum', 'Birthdate', 'Gender', 'EstBalance', 'InsEst', 'HasIns', 'DateFirstVisit']\n",
    "        appt = pd.read_csv(appt_filepath, usecols=['PatNum', 'AptStatus', 'ProvNum', 'AptDateTime'])\n",
    "        pat = pd.read_csv(pat_filepath, usecols=patient_cols)\n",
    "\n",
    "        #drop cancelled appointments\n",
    "        appt = appt[appt['AptStatus'] != 5]\n",
    "        appt.drop('AptStatus', axis=1, inplace=True)\n",
    "\n",
    "        #drop bad date entries (only 2)\n",
    "        appt = appt[appt['AptDateTime'] != '0001-01-01 00:00:00']\n",
    "\n",
    "        #drop fake patients\n",
    "        appt = appt[~appt['PatNum'].isin([3645, 5686, 3391, 2, 5557, 2661])]\n",
    "\n",
    "        #remove time from date/time column\n",
    "        appt['AptDateTime'] = appt['AptDateTime'].str[:10]\n",
    "        appt['AptDateTime'] = pd.to_datetime(appt['AptDateTime'])\n",
    "        \n",
    "        # remove incorrect birthdates and transform date columns\n",
    "        pat['Birthdate'] = np.where(pat['Birthdate'] == '0001-01-01', np.nan, pat['Birthdate'])\n",
    "        pat['Birthdate'] = pd.to_datetime(pat['Birthdate'])\n",
    "\n",
    "        # create age column and fill nan's with mean age\n",
    "        now = pd.to_datetime('now')\n",
    "        pat['age'] = (now - pat['Birthdate']).astype('<m8[Y]')\n",
    "        pat.age.fillna(pat.age.mean(), inplace=True)\n",
    "        pat.drop('Birthdate', axis=1, inplace=True)\n",
    "\n",
    "        # drop inactive patients and transform HasIns col\n",
    "        pat = pat[pat['DateFirstVisit'] != '0001-01-01']\n",
    "        pat['DateFirstVisit'] = pd.to_datetime(pat['DateFirstVisit'])\n",
    "        pat['HasIns'] = np.where(pat['HasIns'] == 'I', 1, 0)\n",
    "        \n",
    "        #create Provider dictionary to create binary \"seen by hygenist X\" columns\n",
    "        provider_dict = {k:(appt[appt['ProvNum'] == k]['PatNum']).unique() for k in [1,2,6,7,10,15]}\n",
    "        \n",
    "        pat['seen_by_1'] =  np.where(pat['PatNum'].isin(provider_dict[1]), 1, 0)\n",
    "        pat['seen_by_2'] =  np.where(pat['PatNum'].isin(provider_dict[2]), 1, 0)\n",
    "        pat['seen_by_6'] =  np.where(pat['PatNum'].isin(provider_dict[6]), 1, 0)\n",
    "        pat['seen_by_7'] =  np.where(pat['PatNum'].isin(provider_dict[7]), 1, 0)\n",
    "        pat['seen_by_10'] = np.where(pat['PatNum'].isin(provider_dict[10]), 1, 0)\n",
    "        pat['seen_by_15'] = np.where(pat['PatNum'].isin(provider_dict[15]), 1, 0)\n",
    "        \n",
    "        \n",
    "        #create new Frequency, Last Visit, Tenure, and Recency columns\n",
    "        grouped = appt.groupby('PatNum')['AptDateTime'].agg(['count', 'max']).reset_index()\n",
    "        grouped.columns = ['PatNum', 'Frequency', 'Last Visit']\n",
    "        merged = pat.merge(grouped)\n",
    "        merged['Tenure'] = merged['Tenure'] = (merged['Last Visit'] - merged['DateFirstVisit']).dt.days\n",
    "        merged['Recency'] = (pd.to_datetime('now') - merged['Last Visit']).dt.days\n",
    "        \n",
    "        #drop all time based columns\n",
    "        merged.drop(['DateFirstVisit', 'Last Visit'], axis=1, inplace=True)\n",
    "        #final = merged.merge(pay)\n",
    "\n",
    "        return merged\n"
   ]
  },
  {
   "cell_type": "code",
   "execution_count": 55,
   "metadata": {},
   "outputs": [],
   "source": [
    "t = Transform()"
   ]
  },
  {
   "cell_type": "code",
   "execution_count": 56,
   "metadata": {},
   "outputs": [],
   "source": [
    "total = t.pay_transform('../data/raw/payment.csv', '../data/raw/claims.csv')"
   ]
  },
  {
   "cell_type": "code",
   "execution_count": 57,
   "metadata": {},
   "outputs": [],
   "source": [
    "patient = t.patient_transform('../data/raw/appt.csv', '../data/raw/patient.csv')"
   ]
  },
  {
   "cell_type": "code",
   "execution_count": 58,
   "metadata": {},
   "outputs": [
    {
     "name": "stdout",
     "output_type": "stream",
     "text": [
      "<class 'pandas.core.frame.DataFrame'>\n",
      "Int64Index: 3514 entries, 0 to 3513\n",
      "Data columns (total 2 columns):\n",
      " #   Column  Non-Null Count  Dtype  \n",
      "---  ------  --------------  -----  \n",
      " 0   PatNum  3514 non-null   int64  \n",
      " 1   Total   3514 non-null   float64\n",
      "dtypes: float64(1), int64(1)\n",
      "memory usage: 82.4 KB\n"
     ]
    }
   ],
   "source": [
    "total.info()"
   ]
  },
  {
   "cell_type": "code",
   "execution_count": 59,
   "metadata": {},
   "outputs": [
    {
     "name": "stdout",
     "output_type": "stream",
     "text": [
      "<class 'pandas.core.frame.DataFrame'>\n",
      "Int64Index: 5724 entries, 0 to 5723\n",
      "Data columns (total 15 columns):\n",
      " #   Column      Non-Null Count  Dtype  \n",
      "---  ------      --------------  -----  \n",
      " 0   PatNum      5724 non-null   int64  \n",
      " 1   Gender      5724 non-null   int64  \n",
      " 2   EstBalance  5724 non-null   float64\n",
      " 3   InsEst      5724 non-null   float64\n",
      " 4   HasIns      5724 non-null   int64  \n",
      " 5   age         5724 non-null   float64\n",
      " 6   seen_by_1   5724 non-null   int64  \n",
      " 7   seen_by_2   5724 non-null   int64  \n",
      " 8   seen_by_6   5724 non-null   int64  \n",
      " 9   seen_by_7   5724 non-null   int64  \n",
      " 10  seen_by_10  5724 non-null   int64  \n",
      " 11  seen_by_15  5724 non-null   int64  \n",
      " 12  Frequency   5724 non-null   int64  \n",
      " 13  Tenure      5724 non-null   int64  \n",
      " 14  Recency     5724 non-null   int64  \n",
      "dtypes: float64(3), int64(12)\n",
      "memory usage: 715.5 KB\n"
     ]
    }
   ],
   "source": [
    "patient.info()"
   ]
  },
  {
   "cell_type": "code",
   "execution_count": 60,
   "metadata": {},
   "outputs": [],
   "source": [
    "full = patient.merge(total)"
   ]
  },
  {
   "cell_type": "code",
   "execution_count": 64,
   "metadata": {},
   "outputs": [],
   "source": [
    "full.to_csv('../data/model/new_model_data.csv', index=False)"
   ]
  },
  {
   "cell_type": "code",
   "execution_count": 68,
   "metadata": {},
   "outputs": [
    {
     "name": "stdout",
     "output_type": "stream",
     "text": [
      "<class 'pandas.core.frame.DataFrame'>\n",
      "Int64Index: 3193 entries, 0 to 3192\n",
      "Data columns (total 16 columns):\n",
      " #   Column      Non-Null Count  Dtype  \n",
      "---  ------      --------------  -----  \n",
      " 0   PatNum      3193 non-null   int64  \n",
      " 1   Gender      3193 non-null   int64  \n",
      " 2   EstBalance  3193 non-null   float64\n",
      " 3   InsEst      3193 non-null   float64\n",
      " 4   HasIns      3193 non-null   int64  \n",
      " 5   age         3193 non-null   float64\n",
      " 6   seen_by_1   3193 non-null   int64  \n",
      " 7   seen_by_2   3193 non-null   int64  \n",
      " 8   seen_by_6   3193 non-null   int64  \n",
      " 9   seen_by_7   3193 non-null   int64  \n",
      " 10  seen_by_10  3193 non-null   int64  \n",
      " 11  seen_by_15  3193 non-null   int64  \n",
      " 12  Frequency   3193 non-null   int64  \n",
      " 13  Tenure      3193 non-null   int64  \n",
      " 14  Recency     3193 non-null   int64  \n",
      " 15  Total       3193 non-null   float64\n",
      "dtypes: float64(4), int64(12)\n",
      "memory usage: 424.1 KB\n"
     ]
    }
   ],
   "source": [
    "full.info()"
   ]
  },
  {
   "cell_type": "code",
   "execution_count": null,
   "metadata": {},
   "outputs": [],
   "source": []
  }
 ],
 "metadata": {
  "kernelspec": {
   "display_name": "Python 3",
   "language": "python",
   "name": "python3"
  },
  "language_info": {
   "codemirror_mode": {
    "name": "ipython",
    "version": 3
   },
   "file_extension": ".py",
   "mimetype": "text/x-python",
   "name": "python",
   "nbconvert_exporter": "python",
   "pygments_lexer": "ipython3",
   "version": "3.8.3"
  }
 },
 "nbformat": 4,
 "nbformat_minor": 4
}
