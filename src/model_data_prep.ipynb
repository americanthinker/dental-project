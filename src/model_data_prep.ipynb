{
 "cells": [
  {
   "cell_type": "code",
   "execution_count": 331,
   "metadata": {},
   "outputs": [],
   "source": [
    "pat = pd.read_csv('../data/interm/patients_2016.csv')\n",
    "appt = pd.read_csv('../data/interm/appt_2016.csv')"
   ]
  },
  {
   "cell_type": "markdown",
   "metadata": {},
   "source": [
    "### Prep data for modelling"
   ]
  },
  {
   "cell_type": "code",
   "execution_count": 332,
   "metadata": {},
   "outputs": [
    {
     "data": {
      "text/html": [
       "<div>\n",
       "<style scoped>\n",
       "    .dataframe tbody tr th:only-of-type {\n",
       "        vertical-align: middle;\n",
       "    }\n",
       "\n",
       "    .dataframe tbody tr th {\n",
       "        vertical-align: top;\n",
       "    }\n",
       "\n",
       "    .dataframe thead th {\n",
       "        text-align: right;\n",
       "    }\n",
       "</style>\n",
       "<table border=\"1\" class=\"dataframe\">\n",
       "  <thead>\n",
       "    <tr style=\"text-align: right;\">\n",
       "      <th></th>\n",
       "      <th>PatNum</th>\n",
       "      <th>LName</th>\n",
       "      <th>FName</th>\n",
       "      <th>PatStatus</th>\n",
       "      <th>Gender</th>\n",
       "      <th>Position</th>\n",
       "      <th>Birthdate</th>\n",
       "      <th>City</th>\n",
       "      <th>State</th>\n",
       "      <th>Zip</th>\n",
       "      <th>HmPhone</th>\n",
       "      <th>WkPhone</th>\n",
       "      <th>WirelessPhone</th>\n",
       "      <th>Guarantor</th>\n",
       "      <th>Email</th>\n",
       "      <th>EstBalance</th>\n",
       "      <th>PriProv</th>\n",
       "      <th>SecProv</th>\n",
       "      <th>BillingType</th>\n",
       "      <th>Bal_0_30</th>\n",
       "      <th>Bal_31_60</th>\n",
       "      <th>Bal_61_90</th>\n",
       "      <th>BalOver90</th>\n",
       "      <th>InsEst</th>\n",
       "      <th>BalTotal</th>\n",
       "      <th>EmployerNum</th>\n",
       "      <th>DateFirstVisit</th>\n",
       "      <th>HasIns</th>\n",
       "      <th>PreferContactMethod</th>\n",
       "      <th>fullname</th>\n",
       "    </tr>\n",
       "  </thead>\n",
       "  <tbody>\n",
       "    <tr>\n",
       "      <th>0</th>\n",
       "      <td>8491</td>\n",
       "      <td>Coates</td>\n",
       "      <td>Paula</td>\n",
       "      <td>0</td>\n",
       "      <td>1</td>\n",
       "      <td>1</td>\n",
       "      <td>1944-11-19</td>\n",
       "      <td>Redding</td>\n",
       "      <td>CA</td>\n",
       "      <td>96003</td>\n",
       "      <td>(209)825-8925</td>\n",
       "      <td>NaN</td>\n",
       "      <td>NaN</td>\n",
       "      <td>8103</td>\n",
       "      <td>NaN</td>\n",
       "      <td>161.0</td>\n",
       "      <td>7</td>\n",
       "      <td>0</td>\n",
       "      <td>352</td>\n",
       "      <td>0.0</td>\n",
       "      <td>0.0</td>\n",
       "      <td>0.0</td>\n",
       "      <td>0.0</td>\n",
       "      <td>0.0</td>\n",
       "      <td>0.0</td>\n",
       "      <td>0</td>\n",
       "      <td>2020-08-10</td>\n",
       "      <td>I</td>\n",
       "      <td>2</td>\n",
       "      <td>paula coates</td>\n",
       "    </tr>\n",
       "    <tr>\n",
       "      <th>1</th>\n",
       "      <td>8494</td>\n",
       "      <td>Daumont</td>\n",
       "      <td>Cyril</td>\n",
       "      <td>0</td>\n",
       "      <td>0</td>\n",
       "      <td>1</td>\n",
       "      <td>1981-10-22</td>\n",
       "      <td>Redding</td>\n",
       "      <td>CA</td>\n",
       "      <td>96003</td>\n",
       "      <td>NaN</td>\n",
       "      <td>NaN</td>\n",
       "      <td>(530)782-8221</td>\n",
       "      <td>6881</td>\n",
       "      <td>melissa.daumont512@gmail.com</td>\n",
       "      <td>158.4</td>\n",
       "      <td>7</td>\n",
       "      <td>0</td>\n",
       "      <td>352</td>\n",
       "      <td>0.0</td>\n",
       "      <td>0.0</td>\n",
       "      <td>0.0</td>\n",
       "      <td>0.0</td>\n",
       "      <td>0.0</td>\n",
       "      <td>0.0</td>\n",
       "      <td>934</td>\n",
       "      <td>2020-08-19</td>\n",
       "      <td>I</td>\n",
       "      <td>4</td>\n",
       "      <td>cyril daumont</td>\n",
       "    </tr>\n",
       "    <tr>\n",
       "      <th>2</th>\n",
       "      <td>8495</td>\n",
       "      <td>Zahniser</td>\n",
       "      <td>Tate</td>\n",
       "      <td>0</td>\n",
       "      <td>0</td>\n",
       "      <td>2</td>\n",
       "      <td>2010-11-18</td>\n",
       "      <td>Bella Vista</td>\n",
       "      <td>CA</td>\n",
       "      <td>96008</td>\n",
       "      <td>(530)310-2166</td>\n",
       "      <td>NaN</td>\n",
       "      <td>(530)310-5212</td>\n",
       "      <td>8270</td>\n",
       "      <td>NaN</td>\n",
       "      <td>45.0</td>\n",
       "      <td>1</td>\n",
       "      <td>0</td>\n",
       "      <td>352</td>\n",
       "      <td>0.0</td>\n",
       "      <td>0.0</td>\n",
       "      <td>0.0</td>\n",
       "      <td>0.0</td>\n",
       "      <td>0.0</td>\n",
       "      <td>0.0</td>\n",
       "      <td>0</td>\n",
       "      <td>2020-09-02</td>\n",
       "      <td>I</td>\n",
       "      <td>4</td>\n",
       "      <td>tate zahniser</td>\n",
       "    </tr>\n",
       "    <tr>\n",
       "      <th>3</th>\n",
       "      <td>8496</td>\n",
       "      <td>Dennis</td>\n",
       "      <td>McKenna</td>\n",
       "      <td>0</td>\n",
       "      <td>1</td>\n",
       "      <td>2</td>\n",
       "      <td>2017-05-18</td>\n",
       "      <td>REDDING</td>\n",
       "      <td>CA</td>\n",
       "      <td>96003</td>\n",
       "      <td>NaN</td>\n",
       "      <td>NaN</td>\n",
       "      <td>(530)262-8400</td>\n",
       "      <td>6528</td>\n",
       "      <td>NaN</td>\n",
       "      <td>10.0</td>\n",
       "      <td>1</td>\n",
       "      <td>0</td>\n",
       "      <td>352</td>\n",
       "      <td>0.0</td>\n",
       "      <td>0.0</td>\n",
       "      <td>0.0</td>\n",
       "      <td>0.0</td>\n",
       "      <td>0.0</td>\n",
       "      <td>0.0</td>\n",
       "      <td>0</td>\n",
       "      <td>2020-09-08</td>\n",
       "      <td>I</td>\n",
       "      <td>4</td>\n",
       "      <td>mckenna dennis</td>\n",
       "    </tr>\n",
       "    <tr>\n",
       "      <th>4</th>\n",
       "      <td>8497</td>\n",
       "      <td>Hurst</td>\n",
       "      <td>Landon</td>\n",
       "      <td>0</td>\n",
       "      <td>0</td>\n",
       "      <td>2</td>\n",
       "      <td>2006-04-12</td>\n",
       "      <td>REDDING</td>\n",
       "      <td>CA</td>\n",
       "      <td>96003</td>\n",
       "      <td>NaN</td>\n",
       "      <td>NaN</td>\n",
       "      <td>(530)262-8400</td>\n",
       "      <td>6528</td>\n",
       "      <td>Marcidennis@gmail.com</td>\n",
       "      <td>15.0</td>\n",
       "      <td>1</td>\n",
       "      <td>0</td>\n",
       "      <td>352</td>\n",
       "      <td>0.0</td>\n",
       "      <td>0.0</td>\n",
       "      <td>0.0</td>\n",
       "      <td>0.0</td>\n",
       "      <td>0.0</td>\n",
       "      <td>0.0</td>\n",
       "      <td>0</td>\n",
       "      <td>2020-09-08</td>\n",
       "      <td>I</td>\n",
       "      <td>4</td>\n",
       "      <td>landon hurst</td>\n",
       "    </tr>\n",
       "  </tbody>\n",
       "</table>\n",
       "</div>"
      ],
      "text/plain": [
       "   PatNum     LName    FName  PatStatus  Gender  Position   Birthdate  \\\n",
       "0    8491    Coates    Paula          0       1         1  1944-11-19   \n",
       "1    8494   Daumont    Cyril          0       0         1  1981-10-22   \n",
       "2    8495  Zahniser     Tate          0       0         2  2010-11-18   \n",
       "3    8496    Dennis  McKenna          0       1         2  2017-05-18   \n",
       "4    8497     Hurst   Landon          0       0         2  2006-04-12   \n",
       "\n",
       "          City State    Zip        HmPhone WkPhone  WirelessPhone  Guarantor  \\\n",
       "0      Redding    CA  96003  (209)825-8925     NaN            NaN       8103   \n",
       "1      Redding    CA  96003            NaN     NaN  (530)782-8221       6881   \n",
       "2  Bella Vista    CA  96008  (530)310-2166     NaN  (530)310-5212       8270   \n",
       "3      REDDING    CA  96003            NaN     NaN  (530)262-8400       6528   \n",
       "4      REDDING    CA  96003            NaN     NaN  (530)262-8400       6528   \n",
       "\n",
       "                          Email  EstBalance  PriProv  SecProv  BillingType  \\\n",
       "0                           NaN       161.0        7        0          352   \n",
       "1  melissa.daumont512@gmail.com       158.4        7        0          352   \n",
       "2                           NaN        45.0        1        0          352   \n",
       "3                           NaN        10.0        1        0          352   \n",
       "4         Marcidennis@gmail.com        15.0        1        0          352   \n",
       "\n",
       "   Bal_0_30  Bal_31_60  Bal_61_90  BalOver90  InsEst  BalTotal  EmployerNum  \\\n",
       "0       0.0        0.0        0.0        0.0     0.0       0.0            0   \n",
       "1       0.0        0.0        0.0        0.0     0.0       0.0          934   \n",
       "2       0.0        0.0        0.0        0.0     0.0       0.0            0   \n",
       "3       0.0        0.0        0.0        0.0     0.0       0.0            0   \n",
       "4       0.0        0.0        0.0        0.0     0.0       0.0            0   \n",
       "\n",
       "  DateFirstVisit HasIns  PreferContactMethod        fullname  \n",
       "0     2020-08-10      I                    2    paula coates  \n",
       "1     2020-08-19      I                    4   cyril daumont  \n",
       "2     2020-09-02      I                    4   tate zahniser  \n",
       "3     2020-09-08      I                    4  mckenna dennis  \n",
       "4     2020-09-08      I                    4    landon hurst  "
      ]
     },
     "execution_count": 332,
     "metadata": {},
     "output_type": "execute_result"
    }
   ],
   "source": [
    "pat.head()"
   ]
  },
  {
   "cell_type": "code",
   "execution_count": 333,
   "metadata": {},
   "outputs": [],
   "source": [
    "#drop uneeded columns\n",
    "pat.drop(['LName', 'FName', 'City', 'State', 'BillingType', 'WkPhone', 'PriProv', 'SecProv', 'EmployerNum', 'Email', 'PreferContactMethod', 'Position', 'fullname'], axis=1, inplace=True)"
   ]
  },
  {
   "cell_type": "code",
   "execution_count": 334,
   "metadata": {},
   "outputs": [],
   "source": [
    "pat['HmPhone'] = pat['HmPhone'].str[:4].str.replace('(','')\n",
    "pat['WirelessPhone'] = pat['WirelessPhone'].str[:4].str.replace('(', '')"
   ]
  },
  {
   "cell_type": "code",
   "execution_count": 335,
   "metadata": {},
   "outputs": [],
   "source": [
    "#create binary column for Area Code 530\n",
    "pat['HmPhone'] = np.where(pat['HmPhone'] == '530', 1, 0)\n",
    "pat['WirelessPhone'] = np.where(pat['WirelessPhone'] == '530', 1, 0)\n",
    "pat.rename(columns={'HmPhone':'530_AreaCode'}, inplace=True)"
   ]
  },
  {
   "cell_type": "code",
   "execution_count": 336,
   "metadata": {},
   "outputs": [
    {
     "data": {
      "text/plain": [
       "1    1423\n",
       "2     630\n",
       "0     361\n",
       "Name: 530_AreaCode, dtype: int64"
      ]
     },
     "execution_count": 336,
     "metadata": {},
     "output_type": "execute_result"
    }
   ],
   "source": [
    "pat['530_AreaCode'] = pat['530_AreaCode'] + pat['WirelessPhone']\n",
    "pat['530_AreaCode'].value_counts()"
   ]
  },
  {
   "cell_type": "code",
   "execution_count": 337,
   "metadata": {},
   "outputs": [
    {
     "name": "stderr",
     "output_type": "stream",
     "text": [
      "<ipython-input-337-4e969ab539d0>:1: SettingWithCopyWarning: \n",
      "A value is trying to be set on a copy of a slice from a DataFrame\n",
      "\n",
      "See the caveats in the documentation: https://pandas.pydata.org/pandas-docs/stable/user_guide/indexing.html#returning-a-view-versus-a-copy\n",
      "  pat.loc[:, '530_AreaCode'][pat['530_AreaCode'] == 2] = 1\n"
     ]
    }
   ],
   "source": [
    "pat.loc[:, '530_AreaCode'][pat['530_AreaCode'] == 2] = 1"
   ]
  },
  {
   "cell_type": "code",
   "execution_count": 338,
   "metadata": {},
   "outputs": [
    {
     "data": {
      "text/plain": [
       "1    2053\n",
       "0     361\n",
       "Name: 530_AreaCode, dtype: int64"
      ]
     },
     "execution_count": 338,
     "metadata": {},
     "output_type": "execute_result"
    }
   ],
   "source": [
    "pat.drop('WirelessPhone', axis=1, inplace=True)\n",
    "pat['530_AreaCode'].value_counts()"
   ]
  },
  {
   "cell_type": "code",
   "execution_count": 339,
   "metadata": {},
   "outputs": [],
   "source": [
    "#strip Zip Code to 5 digits\n",
    "pat['Zip'] = pat.Zip.str[:5]"
   ]
  },
  {
   "cell_type": "code",
   "execution_count": 340,
   "metadata": {},
   "outputs": [],
   "source": [
    "#remove incorrect birthdates\n",
    "pat['Birthdate'] = np.where(pat['Birthdate'] == '0001-01-01', np.nan, pat['Birthdate'])"
   ]
  },
  {
   "cell_type": "code",
   "execution_count": 341,
   "metadata": {},
   "outputs": [],
   "source": [
    "pat['Birthdate'] = pd.to_datetime(pat['Birthdate'])"
   ]
  },
  {
   "cell_type": "code",
   "execution_count": 342,
   "metadata": {},
   "outputs": [],
   "source": [
    "from datetime import datetime"
   ]
  },
  {
   "cell_type": "code",
   "execution_count": 343,
   "metadata": {},
   "outputs": [],
   "source": [
    "#create age column\n",
    "now = pd.to_datetime('now')\n",
    "pat['age'] = (now - pat['Birthdate']).astype('<m8[Y]')"
   ]
  },
  {
   "cell_type": "code",
   "execution_count": 344,
   "metadata": {},
   "outputs": [],
   "source": [
    "#fill age na values with mean age\n",
    "pat.age.fillna(pat.age.mean(), inplace=True)"
   ]
  },
  {
   "cell_type": "code",
   "execution_count": 345,
   "metadata": {},
   "outputs": [],
   "source": [
    "pat.drop('Birthdate', axis=1, inplace=True)"
   ]
  },
  {
   "cell_type": "code",
   "execution_count": 346,
   "metadata": {},
   "outputs": [],
   "source": [
    "inactive = pat[pat['PatStatus'] == 2]['PatNum'].tolist()"
   ]
  },
  {
   "cell_type": "code",
   "execution_count": 347,
   "metadata": {},
   "outputs": [],
   "source": [
    "appt['AptDate'] = pd.to_datetime(appt['AptDate'])"
   ]
  },
  {
   "cell_type": "code",
   "execution_count": 348,
   "metadata": {},
   "outputs": [],
   "source": [
    "inac_appts = appt[appt['PatNum'].isin(inactive)]"
   ]
  },
  {
   "cell_type": "code",
   "execution_count": 349,
   "metadata": {},
   "outputs": [
    {
     "data": {
      "text/plain": [
       "0    1894\n",
       "2     508\n",
       "3      12\n",
       "Name: PatStatus, dtype: int64"
      ]
     },
     "execution_count": 349,
     "metadata": {},
     "output_type": "execute_result"
    }
   ],
   "source": [
    "pat['PatStatus'].value_counts()"
   ]
  },
  {
   "cell_type": "code",
   "execution_count": 350,
   "metadata": {},
   "outputs": [],
   "source": [
    "nonpatient = pat[pat['PatStatus'] == 1]['PatNum'].tolist()"
   ]
  },
  {
   "cell_type": "code",
   "execution_count": 351,
   "metadata": {},
   "outputs": [],
   "source": [
    "nonp_index = appt[appt['PatNum'].isin(nonpatient)]['AptDate'].index"
   ]
  },
  {
   "cell_type": "code",
   "execution_count": 352,
   "metadata": {},
   "outputs": [],
   "source": [
    "appt.drop(nonp_index, inplace=True)"
   ]
  },
  {
   "cell_type": "code",
   "execution_count": 353,
   "metadata": {},
   "outputs": [],
   "source": [
    "#remove all non patients from patient and appointments tables \n",
    "pat = pat[pat['PatStatus'] != 3]\n",
    "pat = pat[pat['PatStatus'] != 1]"
   ]
  },
  {
   "cell_type": "code",
   "execution_count": 354,
   "metadata": {},
   "outputs": [
    {
     "data": {
      "text/plain": [
       "I    1815\n",
       "Name: HasIns, dtype: int64"
      ]
     },
     "execution_count": 354,
     "metadata": {},
     "output_type": "execute_result"
    }
   ],
   "source": [
    "pat.HasIns.value_counts()"
   ]
  },
  {
   "cell_type": "code",
   "execution_count": 355,
   "metadata": {},
   "outputs": [],
   "source": [
    "pat['HasIns'] = np.where(pat['HasIns'] == 'I', 1, 0)"
   ]
  },
  {
   "cell_type": "code",
   "execution_count": 395,
   "metadata": {},
   "outputs": [],
   "source": [
    "#create data for 2016 and newer\n",
    "#appt_2016 = appt[appt['AptDate'].between('2016-01-01', '2022-01-01')]\n",
    "appt.to_csv('../data/interm/appt_2016.csv', index=False)"
   ]
  },
  {
   "cell_type": "code",
   "execution_count": 357,
   "metadata": {},
   "outputs": [],
   "source": [
    "appt['AptDate'] = pd.to_datetime(appt['AptDate'])"
   ]
  },
  {
   "cell_type": "code",
   "execution_count": 363,
   "metadata": {},
   "outputs": [],
   "source": [
    "#patients_2016 = pat[pat['PatNum'].isin(appt['PatNum'])]\n",
    "pat.to_csv('../data/interm/patients_2016.csv', index=False)"
   ]
  },
  {
   "cell_type": "code",
   "execution_count": 365,
   "metadata": {},
   "outputs": [],
   "source": [
    "#pat.drop('Guarantor', axis=1, inplace=True)"
   ]
  },
  {
   "cell_type": "code",
   "execution_count": 359,
   "metadata": {},
   "outputs": [],
   "source": [
    "pat['child'] = np.where(pat.age < 19, 1, 0)"
   ]
  },
  {
   "cell_type": "code",
   "execution_count": 360,
   "metadata": {},
   "outputs": [],
   "source": [
    "pat['PatStatus'] = np.where(pat['PatStatus'] == 0, 1, 0)"
   ]
  },
  {
   "cell_type": "code",
   "execution_count": 368,
   "metadata": {},
   "outputs": [],
   "source": [
    "pat.drop('BillingType', axis=1, inplace=True)"
   ]
  },
  {
   "cell_type": "code",
   "execution_count": 369,
   "metadata": {},
   "outputs": [
    {
     "data": {
      "text/html": [
       "<div>\n",
       "<style scoped>\n",
       "    .dataframe tbody tr th:only-of-type {\n",
       "        vertical-align: middle;\n",
       "    }\n",
       "\n",
       "    .dataframe tbody tr th {\n",
       "        vertical-align: top;\n",
       "    }\n",
       "\n",
       "    .dataframe thead th {\n",
       "        text-align: right;\n",
       "    }\n",
       "</style>\n",
       "<table border=\"1\" class=\"dataframe\">\n",
       "  <thead>\n",
       "    <tr style=\"text-align: right;\">\n",
       "      <th></th>\n",
       "      <th>PatNum</th>\n",
       "      <th>PatStatus</th>\n",
       "      <th>Gender</th>\n",
       "      <th>Zip</th>\n",
       "      <th>530_AreaCode</th>\n",
       "      <th>EstBalance</th>\n",
       "      <th>Bal_0_30</th>\n",
       "      <th>Bal_31_60</th>\n",
       "      <th>Bal_61_90</th>\n",
       "      <th>BalOver90</th>\n",
       "      <th>InsEst</th>\n",
       "      <th>BalTotal</th>\n",
       "      <th>DateFirstVisit</th>\n",
       "      <th>HasIns</th>\n",
       "      <th>age</th>\n",
       "      <th>child</th>\n",
       "    </tr>\n",
       "  </thead>\n",
       "  <tbody>\n",
       "    <tr>\n",
       "      <th>0</th>\n",
       "      <td>8491</td>\n",
       "      <td>1</td>\n",
       "      <td>1</td>\n",
       "      <td>96003</td>\n",
       "      <td>0</td>\n",
       "      <td>161.0</td>\n",
       "      <td>0.0</td>\n",
       "      <td>0.0</td>\n",
       "      <td>0.0</td>\n",
       "      <td>0.0</td>\n",
       "      <td>0.0</td>\n",
       "      <td>0.0</td>\n",
       "      <td>2020-08-10</td>\n",
       "      <td>1</td>\n",
       "      <td>76.0</td>\n",
       "      <td>0</td>\n",
       "    </tr>\n",
       "    <tr>\n",
       "      <th>1</th>\n",
       "      <td>8494</td>\n",
       "      <td>1</td>\n",
       "      <td>0</td>\n",
       "      <td>96003</td>\n",
       "      <td>1</td>\n",
       "      <td>158.4</td>\n",
       "      <td>0.0</td>\n",
       "      <td>0.0</td>\n",
       "      <td>0.0</td>\n",
       "      <td>0.0</td>\n",
       "      <td>0.0</td>\n",
       "      <td>0.0</td>\n",
       "      <td>2020-08-19</td>\n",
       "      <td>1</td>\n",
       "      <td>39.0</td>\n",
       "      <td>0</td>\n",
       "    </tr>\n",
       "    <tr>\n",
       "      <th>2</th>\n",
       "      <td>8495</td>\n",
       "      <td>1</td>\n",
       "      <td>0</td>\n",
       "      <td>96008</td>\n",
       "      <td>1</td>\n",
       "      <td>45.0</td>\n",
       "      <td>0.0</td>\n",
       "      <td>0.0</td>\n",
       "      <td>0.0</td>\n",
       "      <td>0.0</td>\n",
       "      <td>0.0</td>\n",
       "      <td>0.0</td>\n",
       "      <td>2020-09-02</td>\n",
       "      <td>1</td>\n",
       "      <td>10.0</td>\n",
       "      <td>1</td>\n",
       "    </tr>\n",
       "    <tr>\n",
       "      <th>3</th>\n",
       "      <td>8496</td>\n",
       "      <td>1</td>\n",
       "      <td>1</td>\n",
       "      <td>96003</td>\n",
       "      <td>1</td>\n",
       "      <td>10.0</td>\n",
       "      <td>0.0</td>\n",
       "      <td>0.0</td>\n",
       "      <td>0.0</td>\n",
       "      <td>0.0</td>\n",
       "      <td>0.0</td>\n",
       "      <td>0.0</td>\n",
       "      <td>2020-09-08</td>\n",
       "      <td>1</td>\n",
       "      <td>3.0</td>\n",
       "      <td>1</td>\n",
       "    </tr>\n",
       "    <tr>\n",
       "      <th>4</th>\n",
       "      <td>8497</td>\n",
       "      <td>1</td>\n",
       "      <td>0</td>\n",
       "      <td>96003</td>\n",
       "      <td>1</td>\n",
       "      <td>15.0</td>\n",
       "      <td>0.0</td>\n",
       "      <td>0.0</td>\n",
       "      <td>0.0</td>\n",
       "      <td>0.0</td>\n",
       "      <td>0.0</td>\n",
       "      <td>0.0</td>\n",
       "      <td>2020-09-08</td>\n",
       "      <td>1</td>\n",
       "      <td>14.0</td>\n",
       "      <td>1</td>\n",
       "    </tr>\n",
       "  </tbody>\n",
       "</table>\n",
       "</div>"
      ],
      "text/plain": [
       "   PatNum  PatStatus  Gender    Zip  530_AreaCode  EstBalance  Bal_0_30  \\\n",
       "0    8491          1       1  96003             0       161.0       0.0   \n",
       "1    8494          1       0  96003             1       158.4       0.0   \n",
       "2    8495          1       0  96008             1        45.0       0.0   \n",
       "3    8496          1       1  96003             1        10.0       0.0   \n",
       "4    8497          1       0  96003             1        15.0       0.0   \n",
       "\n",
       "   Bal_31_60  Bal_61_90  BalOver90  InsEst  BalTotal DateFirstVisit  HasIns  \\\n",
       "0        0.0        0.0        0.0     0.0       0.0     2020-08-10       1   \n",
       "1        0.0        0.0        0.0     0.0       0.0     2020-08-19       1   \n",
       "2        0.0        0.0        0.0     0.0       0.0     2020-09-02       1   \n",
       "3        0.0        0.0        0.0     0.0       0.0     2020-09-08       1   \n",
       "4        0.0        0.0        0.0     0.0       0.0     2020-09-08       1   \n",
       "\n",
       "    age  child  \n",
       "0  76.0      0  \n",
       "1  39.0      0  \n",
       "2  10.0      1  \n",
       "3   3.0      1  \n",
       "4  14.0      1  "
      ]
     },
     "execution_count": 369,
     "metadata": {},
     "output_type": "execute_result"
    }
   ],
   "source": [
    "pat.head()"
   ]
  },
  {
   "cell_type": "code",
   "execution_count": null,
   "metadata": {},
   "outputs": [],
   "source": [
    "#date_range = freqs.pivot_table(values='AptDateTime', index='PatNum', aggfunc=['min', 'max'])\n",
    "#tenure = (date_range.iloc[:, 1] - date_range.iloc[:, 0]).dt.days/365"
   ]
  },
  {
   "cell_type": "code",
   "execution_count": 370,
   "metadata": {},
   "outputs": [],
   "source": [
    "pat['DateFirstVisit'] = pd.to_datetime(pat['DateFirstVisit'])"
   ]
  },
  {
   "cell_type": "code",
   "execution_count": 401,
   "metadata": {},
   "outputs": [],
   "source": [
    "max_dates = appt.groupby('PatNum')['AptDate'].max().to_frame().reset_index()"
   ]
  },
  {
   "cell_type": "code",
   "execution_count": 393,
   "metadata": {},
   "outputs": [],
   "source": [
    "appt = appt[appt['PatNum'].isin(pat['PatNum'])]"
   ]
  },
  {
   "cell_type": "code",
   "execution_count": 434,
   "metadata": {},
   "outputs": [],
   "source": [
    "pat = pat.merge(max_dates)"
   ]
  },
  {
   "cell_type": "code",
   "execution_count": 435,
   "metadata": {},
   "outputs": [
    {
     "data": {
      "text/plain": [
       "count     2402.000000\n",
       "mean      2298.094505\n",
       "std       2083.739987\n",
       "min       -139.000000\n",
       "25%        434.250000\n",
       "50%       1669.500000\n",
       "75%       3972.500000\n",
       "max      10565.000000\n",
       "dtype: float64"
      ]
     },
     "execution_count": 435,
     "metadata": {},
     "output_type": "execute_result"
    }
   ],
   "source": [
    "(pat['AptDate'] - pat['DateFirstVisit']).dt.days.describe()"
   ]
  },
  {
   "cell_type": "code",
   "execution_count": 437,
   "metadata": {},
   "outputs": [],
   "source": [
    "pat['tenure'] = (pat['AptDate'] - pat['DateFirstVisit']).dt.days"
   ]
  },
  {
   "cell_type": "code",
   "execution_count": 424,
   "metadata": {},
   "outputs": [],
   "source": [
    "test['cuts'] = pd.cut(test['tenure'], bins=10)"
   ]
  },
  {
   "cell_type": "code",
   "execution_count": 428,
   "metadata": {},
   "outputs": [
    {
     "data": {
      "image/png": "[encoded data removed]",
      "text/plain": [
       "<Figure size 1440x720 with 1 Axes>"
      ]
     },
     "metadata": {
      "needs_background": "light"
     },
     "output_type": "display_data"
    }
   ],
   "source": [
    "box = sns.boxplot(x=test['cuts'], y=test['age'])"
   ]
  },
  {
   "cell_type": "code",
   "execution_count": 429,
   "metadata": {},
   "outputs": [
    {
     "data": {
      "image/png": "[encoded data removed]",
      "text/plain": [
       "<Figure size 1440x720 with 1 Axes>"
      ]
     },
     "metadata": {
      "needs_background": "light"
     },
     "output_type": "display_data"
    }
   ],
   "source": [
    "scat = sns.regplot(x=test.age, y=test.tenure)"
   ]
  },
  {
   "cell_type": "code",
   "execution_count": 438,
   "metadata": {},
   "outputs": [
    {
     "data": {
      "text/plain": [
       "<matplotlib.axes._subplots.AxesSubplot at 0x7fc1ac342400>"
      ]
     },
     "execution_count": 438,
     "metadata": {},
     "output_type": "execute_result"
    },
    {
     "data": {
      "text/plain": [
       "<matplotlib.axes._subplots.AxesSubplot at 0x7fc1ac342400>"
      ]
     },
     "execution_count": 438,
     "metadata": {},
     "output_type": "execute_result"
    },
    {
     "data": {
      "image/png": "[encoded data removed]",
      "text/plain": [
       "<Figure size 1440x720 with 1 Axes>"
      ]
     },
     "metadata": {
      "needs_background": "light"
     },
     "output_type": "display_data"
    }
   ],
   "source": [
    "sns.kdeplot(test.tenure)\n",
    "sns.histplot(pat.tenure, bins=30)"
   ]
  },
  {
   "cell_type": "code",
   "execution_count": 441,
   "metadata": {},
   "outputs": [],
   "source": [
    "pat.rename(columns={'AptDate':'LastVisit'}, inplace=True)"
   ]
  },
  {
   "cell_type": "code",
   "execution_count": 448,
   "metadata": {},
   "outputs": [
    {
     "data": {
      "text/plain": [
       "<matplotlib.axes._subplots.AxesSubplot at 0x7fc1ac38aeb0>"
      ]
     },
     "execution_count": 448,
     "metadata": {},
     "output_type": "execute_result"
    },
    {
     "data": {
      "image/png": "[encoded data removed]",
      "text/plain": [
       "<Figure size 1440x720 with 1 Axes>"
      ]
     },
     "metadata": {
      "needs_background": "light"
     },
     "output_type": "display_data"
    }
   ],
   "source": [
    "sns.histplot(((now - pat['LastVisit']).dt.days), bins=30)"
   ]
  },
  {
   "cell_type": "code",
   "execution_count": 449,
   "metadata": {},
   "outputs": [],
   "source": [
    "churn = (now - pat['LastVisit']).dt.days"
   ]
  },
  {
   "cell_type": "code",
   "execution_count": 452,
   "metadata": {},
   "outputs": [],
   "source": [
    "churn.name = 'churn'"
   ]
  },
  {
   "cell_type": "code",
   "execution_count": 454,
   "metadata": {},
   "outputs": [],
   "source": [
    "pat = pd.concat([pat, churn], axis=1)"
   ]
  },
  {
   "cell_type": "code",
   "execution_count": 457,
   "metadata": {},
   "outputs": [
    {
     "data": {
      "text/plain": [
       "0    1372\n",
       "1    1030\n",
       "dtype: int64"
      ]
     },
     "execution_count": 457,
     "metadata": {},
     "output_type": "execute_result"
    }
   ],
   "source": [
    "pd.Series(np.where(pat['churn'] < 400, 0, 1)).value_counts()"
   ]
  },
  {
   "cell_type": "code",
   "execution_count": 458,
   "metadata": {},
   "outputs": [],
   "source": [
    "lv = pat['LastVisit']"
   ]
  },
  {
   "cell_type": "code",
   "execution_count": 459,
   "metadata": {},
   "outputs": [],
   "source": [
    "pat.drop('LastVisit', axis=1, inplace=True)"
   ]
  },
  {
   "cell_type": "code",
   "execution_count": 460,
   "metadata": {},
   "outputs": [],
   "source": [
    "pat.rename(columns={'churn':'LastVisit'}, inplace=True)"
   ]
  },
  {
   "cell_type": "code",
   "execution_count": 462,
   "metadata": {},
   "outputs": [],
   "source": [
    "pat['churn'] = np.where(pat['LastVisit'] < 400, 0, 1)"
   ]
  },
  {
   "cell_type": "code",
   "execution_count": 467,
   "metadata": {},
   "outputs": [
    {
     "data": {
      "text/plain": [
       "count    1030.000000\n",
       "mean     1081.741748\n",
       "std       428.852948\n",
       "min       400.000000\n",
       "25%       677.000000\n",
       "50%      1084.000000\n",
       "75%      1440.000000\n",
       "max      1818.000000\n",
       "Name: LastVisit, dtype: float64"
      ]
     },
     "execution_count": 467,
     "metadata": {},
     "output_type": "execute_result"
    }
   ],
   "source": [
    "pat[pat['churn'] == 1]['LastVisit'].describe()"
   ]
  },
  {
   "cell_type": "code",
   "execution_count": 496,
   "metadata": {},
   "outputs": [],
   "source": [
    "freq = appt.groupby('PatNum')['AptDate'].count().to_frame().reset_index()"
   ]
  },
  {
   "cell_type": "code",
   "execution_count": 510,
   "metadata": {},
   "outputs": [],
   "source": [
    "freq['AptDate'].name = 'num_visits'"
   ]
  },
  {
   "cell_type": "code",
   "execution_count": 490,
   "metadata": {},
   "outputs": [],
   "source": [
    "pat = pat.sort_values('PatNum')"
   ]
  },
  {
   "cell_type": "code",
   "execution_count": 512,
   "metadata": {},
   "outputs": [],
   "source": [
    "test = pat.merge(freq)"
   ]
  },
  {
   "cell_type": "code",
   "execution_count": 532,
   "metadata": {},
   "outputs": [],
   "source": [
    "churn_zips = test[test['churn'] == 1]['Zip'].value_counts().head(10)\n",
    "nonchurn_zips = test[test['churn'] == 0]['Zip'].value_counts().head(10)"
   ]
  },
  {
   "cell_type": "code",
   "execution_count": 553,
   "metadata": {},
   "outputs": [
    {
     "data": {
      "text/plain": [
       "<BarContainer object of 10 artists>"
      ]
     },
     "execution_count": 553,
     "metadata": {},
     "output_type": "execute_result"
    },
    {
     "data": {
      "text/plain": [
       "<BarContainer object of 10 artists>"
      ]
     },
     "execution_count": 553,
     "metadata": {},
     "output_type": "execute_result"
    },
    {
     "data": {
      "image/png": "[encoded data removed]",
      "text/plain": [
       "<Figure size 1440x720 with 1 Axes>"
      ]
     },
     "metadata": {
      "needs_background": "light"
     },
     "output_type": "display_data"
    }
   ],
   "source": [
    "plt.bar(height=churn_zip_ratio.values, x=churn_zip_ratio.index)\n",
    "plt.bar(height=nonchurn_zip_ratio.values, x = nonchurn_zip_ratio.index, width=0.6, color='red')"
   ]
  },
  {
   "cell_type": "code",
   "execution_count": 550,
   "metadata": {},
   "outputs": [],
   "source": [
    "churn_zip_ratio = churn_zips/sum(churn_zips)*100"
   ]
  },
  {
   "cell_type": "code",
   "execution_count": 551,
   "metadata": {},
   "outputs": [],
   "source": [
    "nonchurn_zip_ratio = nonchurn_zips/sum(nonchurn_zips) * 100"
   ]
  },
  {
   "cell_type": "code",
   "execution_count": 561,
   "metadata": {},
   "outputs": [],
   "source": [
    "pat = test"
   ]
  },
  {
   "cell_type": "code",
   "execution_count": 562,
   "metadata": {},
   "outputs": [],
   "source": [
    "pat.rename(columns={\"AptDate\":'num_visits'}, inplace=True)"
   ]
  },
  {
   "cell_type": "code",
   "execution_count": 564,
   "metadata": {},
   "outputs": [],
   "source": [
    "pat.drop('DateFirstVisit', axis=1, inplace=True)"
   ]
  },
  {
   "cell_type": "code",
   "execution_count": 565,
   "metadata": {},
   "outputs": [],
   "source": [
    "good_zips = ['96001', '96022', '96073', '96099', '96080']"
   ]
  },
  {
   "cell_type": "code",
   "execution_count": 566,
   "metadata": {},
   "outputs": [],
   "source": [
    "def ufunc(row):\n",
    "    if row in good_zips:\n",
    "        return row\n",
    "    else:\n",
    "        return np.nan"
   ]
  },
  {
   "cell_type": "code",
   "execution_count": 570,
   "metadata": {},
   "outputs": [],
   "source": [
    "pat.Zip = pat.Zip.apply(ufunc)"
   ]
  },
  {
   "cell_type": "code",
   "execution_count": 574,
   "metadata": {},
   "outputs": [],
   "source": [
    "pat = pd.get_dummies(pat, columns=['Zip'])"
   ]
  },
  {
   "cell_type": "code",
   "execution_count": 588,
   "metadata": {},
   "outputs": [
    {
     "data": {
      "text/html": [
       "<div>\n",
       "<style scoped>\n",
       "    .dataframe tbody tr th:only-of-type {\n",
       "        vertical-align: middle;\n",
       "    }\n",
       "\n",
       "    .dataframe tbody tr th {\n",
       "        vertical-align: top;\n",
       "    }\n",
       "\n",
       "    .dataframe thead th {\n",
       "        text-align: right;\n",
       "    }\n",
       "</style>\n",
       "<table border=\"1\" class=\"dataframe\">\n",
       "  <thead>\n",
       "    <tr style=\"text-align: right;\">\n",
       "      <th></th>\n",
       "      <th>PatNum</th>\n",
       "      <th>PatStatus</th>\n",
       "      <th>Gender</th>\n",
       "      <th>530_AreaCode</th>\n",
       "      <th>EstBalance</th>\n",
       "      <th>Bal_0_30</th>\n",
       "      <th>Bal_31_60</th>\n",
       "      <th>Bal_61_90</th>\n",
       "      <th>BalOver90</th>\n",
       "      <th>InsEst</th>\n",
       "      <th>BalTotal</th>\n",
       "      <th>HasIns</th>\n",
       "      <th>age</th>\n",
       "      <th>child</th>\n",
       "      <th>tenure</th>\n",
       "      <th>LastVisit</th>\n",
       "      <th>churn</th>\n",
       "      <th>num_visits</th>\n",
       "      <th>Zip_96001</th>\n",
       "      <th>Zip_96022</th>\n",
       "      <th>Zip_96073</th>\n",
       "      <th>Zip_96080</th>\n",
       "      <th>Zip_96099</th>\n",
       "    </tr>\n",
       "  </thead>\n",
       "  <tbody>\n",
       "    <tr>\n",
       "      <th>0</th>\n",
       "      <td>3</td>\n",
       "      <td>1</td>\n",
       "      <td>0</td>\n",
       "      <td>1</td>\n",
       "      <td>185.0</td>\n",
       "      <td>0.0</td>\n",
       "      <td>0.0</td>\n",
       "      <td>185.0</td>\n",
       "      <td>0.0</td>\n",
       "      <td>135.0</td>\n",
       "      <td>1.850000e+02</td>\n",
       "      <td>1</td>\n",
       "      <td>62.000000</td>\n",
       "      <td>0</td>\n",
       "      <td>10511</td>\n",
       "      <td>-91</td>\n",
       "      <td>0</td>\n",
       "      <td>16</td>\n",
       "      <td>1</td>\n",
       "      <td>0</td>\n",
       "      <td>0</td>\n",
       "      <td>0</td>\n",
       "      <td>0</td>\n",
       "    </tr>\n",
       "    <tr>\n",
       "      <th>1</th>\n",
       "      <td>25</td>\n",
       "      <td>1</td>\n",
       "      <td>0</td>\n",
       "      <td>1</td>\n",
       "      <td>0.0</td>\n",
       "      <td>0.0</td>\n",
       "      <td>0.0</td>\n",
       "      <td>0.0</td>\n",
       "      <td>0.0</td>\n",
       "      <td>0.0</td>\n",
       "      <td>0.000000e+00</td>\n",
       "      <td>1</td>\n",
       "      <td>63.000000</td>\n",
       "      <td>0</td>\n",
       "      <td>10494</td>\n",
       "      <td>-77</td>\n",
       "      <td>0</td>\n",
       "      <td>16</td>\n",
       "      <td>0</td>\n",
       "      <td>0</td>\n",
       "      <td>0</td>\n",
       "      <td>0</td>\n",
       "      <td>0</td>\n",
       "    </tr>\n",
       "    <tr>\n",
       "      <th>2</th>\n",
       "      <td>38</td>\n",
       "      <td>1</td>\n",
       "      <td>1</td>\n",
       "      <td>1</td>\n",
       "      <td>-6119.0</td>\n",
       "      <td>0.0</td>\n",
       "      <td>0.0</td>\n",
       "      <td>0.0</td>\n",
       "      <td>0.0</td>\n",
       "      <td>0.0</td>\n",
       "      <td>0.000000e+00</td>\n",
       "      <td>0</td>\n",
       "      <td>69.000000</td>\n",
       "      <td>0</td>\n",
       "      <td>10565</td>\n",
       "      <td>-148</td>\n",
       "      <td>0</td>\n",
       "      <td>12</td>\n",
       "      <td>0</td>\n",
       "      <td>0</td>\n",
       "      <td>0</td>\n",
       "      <td>0</td>\n",
       "      <td>0</td>\n",
       "    </tr>\n",
       "    <tr>\n",
       "      <th>3</th>\n",
       "      <td>46</td>\n",
       "      <td>1</td>\n",
       "      <td>0</td>\n",
       "      <td>1</td>\n",
       "      <td>-1806.1</td>\n",
       "      <td>0.0</td>\n",
       "      <td>0.0</td>\n",
       "      <td>0.0</td>\n",
       "      <td>0.0</td>\n",
       "      <td>0.0</td>\n",
       "      <td>-7.275958e-12</td>\n",
       "      <td>1</td>\n",
       "      <td>73.000000</td>\n",
       "      <td>0</td>\n",
       "      <td>8323</td>\n",
       "      <td>-97</td>\n",
       "      <td>0</td>\n",
       "      <td>19</td>\n",
       "      <td>0</td>\n",
       "      <td>0</td>\n",
       "      <td>0</td>\n",
       "      <td>0</td>\n",
       "      <td>0</td>\n",
       "    </tr>\n",
       "    <tr>\n",
       "      <th>4</th>\n",
       "      <td>69</td>\n",
       "      <td>1</td>\n",
       "      <td>0</td>\n",
       "      <td>1</td>\n",
       "      <td>-298.0</td>\n",
       "      <td>0.0</td>\n",
       "      <td>0.0</td>\n",
       "      <td>0.0</td>\n",
       "      <td>0.0</td>\n",
       "      <td>0.0</td>\n",
       "      <td>0.000000e+00</td>\n",
       "      <td>1</td>\n",
       "      <td>77.000000</td>\n",
       "      <td>0</td>\n",
       "      <td>10444</td>\n",
       "      <td>-28</td>\n",
       "      <td>0</td>\n",
       "      <td>19</td>\n",
       "      <td>0</td>\n",
       "      <td>0</td>\n",
       "      <td>0</td>\n",
       "      <td>0</td>\n",
       "      <td>0</td>\n",
       "    </tr>\n",
       "    <tr>\n",
       "      <th>...</th>\n",
       "      <td>...</td>\n",
       "      <td>...</td>\n",
       "      <td>...</td>\n",
       "      <td>...</td>\n",
       "      <td>...</td>\n",
       "      <td>...</td>\n",
       "      <td>...</td>\n",
       "      <td>...</td>\n",
       "      <td>...</td>\n",
       "      <td>...</td>\n",
       "      <td>...</td>\n",
       "      <td>...</td>\n",
       "      <td>...</td>\n",
       "      <td>...</td>\n",
       "      <td>...</td>\n",
       "      <td>...</td>\n",
       "      <td>...</td>\n",
       "      <td>...</td>\n",
       "      <td>...</td>\n",
       "      <td>...</td>\n",
       "      <td>...</td>\n",
       "      <td>...</td>\n",
       "      <td>...</td>\n",
       "    </tr>\n",
       "    <tr>\n",
       "      <th>2397</th>\n",
       "      <td>8544</td>\n",
       "      <td>1</td>\n",
       "      <td>1</td>\n",
       "      <td>1</td>\n",
       "      <td>0.0</td>\n",
       "      <td>0.0</td>\n",
       "      <td>0.0</td>\n",
       "      <td>0.0</td>\n",
       "      <td>0.0</td>\n",
       "      <td>0.0</td>\n",
       "      <td>0.000000e+00</td>\n",
       "      <td>1</td>\n",
       "      <td>25.000000</td>\n",
       "      <td>0</td>\n",
       "      <td>0</td>\n",
       "      <td>-8</td>\n",
       "      <td>0</td>\n",
       "      <td>1</td>\n",
       "      <td>0</td>\n",
       "      <td>0</td>\n",
       "      <td>0</td>\n",
       "      <td>0</td>\n",
       "      <td>0</td>\n",
       "    </tr>\n",
       "    <tr>\n",
       "      <th>2398</th>\n",
       "      <td>8546</td>\n",
       "      <td>1</td>\n",
       "      <td>1</td>\n",
       "      <td>1</td>\n",
       "      <td>0.0</td>\n",
       "      <td>0.0</td>\n",
       "      <td>0.0</td>\n",
       "      <td>0.0</td>\n",
       "      <td>0.0</td>\n",
       "      <td>0.0</td>\n",
       "      <td>0.000000e+00</td>\n",
       "      <td>0</td>\n",
       "      <td>22.000000</td>\n",
       "      <td>0</td>\n",
       "      <td>0</td>\n",
       "      <td>-6</td>\n",
       "      <td>0</td>\n",
       "      <td>1</td>\n",
       "      <td>0</td>\n",
       "      <td>0</td>\n",
       "      <td>0</td>\n",
       "      <td>0</td>\n",
       "      <td>0</td>\n",
       "    </tr>\n",
       "    <tr>\n",
       "      <th>2399</th>\n",
       "      <td>8547</td>\n",
       "      <td>1</td>\n",
       "      <td>0</td>\n",
       "      <td>1</td>\n",
       "      <td>0.0</td>\n",
       "      <td>0.0</td>\n",
       "      <td>0.0</td>\n",
       "      <td>0.0</td>\n",
       "      <td>0.0</td>\n",
       "      <td>0.0</td>\n",
       "      <td>0.000000e+00</td>\n",
       "      <td>0</td>\n",
       "      <td>47.630565</td>\n",
       "      <td>0</td>\n",
       "      <td>441</td>\n",
       "      <td>-27</td>\n",
       "      <td>0</td>\n",
       "      <td>1</td>\n",
       "      <td>0</td>\n",
       "      <td>0</td>\n",
       "      <td>0</td>\n",
       "      <td>0</td>\n",
       "      <td>0</td>\n",
       "    </tr>\n",
       "    <tr>\n",
       "      <th>2400</th>\n",
       "      <td>8548</td>\n",
       "      <td>1</td>\n",
       "      <td>0</td>\n",
       "      <td>0</td>\n",
       "      <td>0.0</td>\n",
       "      <td>0.0</td>\n",
       "      <td>0.0</td>\n",
       "      <td>0.0</td>\n",
       "      <td>0.0</td>\n",
       "      <td>0.0</td>\n",
       "      <td>0.000000e+00</td>\n",
       "      <td>0</td>\n",
       "      <td>47.630565</td>\n",
       "      <td>0</td>\n",
       "      <td>1064</td>\n",
       "      <td>-2</td>\n",
       "      <td>0</td>\n",
       "      <td>1</td>\n",
       "      <td>0</td>\n",
       "      <td>0</td>\n",
       "      <td>0</td>\n",
       "      <td>0</td>\n",
       "      <td>0</td>\n",
       "    </tr>\n",
       "    <tr>\n",
       "      <th>2401</th>\n",
       "      <td>8549</td>\n",
       "      <td>1</td>\n",
       "      <td>0</td>\n",
       "      <td>0</td>\n",
       "      <td>0.0</td>\n",
       "      <td>0.0</td>\n",
       "      <td>0.0</td>\n",
       "      <td>0.0</td>\n",
       "      <td>0.0</td>\n",
       "      <td>0.0</td>\n",
       "      <td>0.000000e+00</td>\n",
       "      <td>0</td>\n",
       "      <td>47.630565</td>\n",
       "      <td>0</td>\n",
       "      <td>132</td>\n",
       "      <td>0</td>\n",
       "      <td>0</td>\n",
       "      <td>1</td>\n",
       "      <td>0</td>\n",
       "      <td>0</td>\n",
       "      <td>0</td>\n",
       "      <td>0</td>\n",
       "      <td>0</td>\n",
       "    </tr>\n",
       "  </tbody>\n",
       "</table>\n",
       "<p>2402 rows × 23 columns</p>\n",
       "</div>"
      ],
      "text/plain": [
       "      PatNum  PatStatus  Gender  530_AreaCode  EstBalance  Bal_0_30  \\\n",
       "0          3          1       0             1       185.0       0.0   \n",
       "1         25          1       0             1         0.0       0.0   \n",
       "2         38          1       1             1     -6119.0       0.0   \n",
       "3         46          1       0             1     -1806.1       0.0   \n",
       "4         69          1       0             1      -298.0       0.0   \n",
       "...      ...        ...     ...           ...         ...       ...   \n",
       "2397    8544          1       1             1         0.0       0.0   \n",
       "2398    8546          1       1             1         0.0       0.0   \n",
       "2399    8547          1       0             1         0.0       0.0   \n",
       "2400    8548          1       0             0         0.0       0.0   \n",
       "2401    8549          1       0             0         0.0       0.0   \n",
       "\n",
       "      Bal_31_60  Bal_61_90  BalOver90  InsEst      BalTotal  HasIns  \\\n",
       "0           0.0      185.0        0.0   135.0  1.850000e+02       1   \n",
       "1           0.0        0.0        0.0     0.0  0.000000e+00       1   \n",
       "2           0.0        0.0        0.0     0.0  0.000000e+00       0   \n",
       "3           0.0        0.0        0.0     0.0 -7.275958e-12       1   \n",
       "4           0.0        0.0        0.0     0.0  0.000000e+00       1   \n",
       "...         ...        ...        ...     ...           ...     ...   \n",
       "2397        0.0        0.0        0.0     0.0  0.000000e+00       1   \n",
       "2398        0.0        0.0        0.0     0.0  0.000000e+00       0   \n",
       "2399        0.0        0.0        0.0     0.0  0.000000e+00       0   \n",
       "2400        0.0        0.0        0.0     0.0  0.000000e+00       0   \n",
       "2401        0.0        0.0        0.0     0.0  0.000000e+00       0   \n",
       "\n",
       "            age  child  tenure  LastVisit  churn  num_visits  Zip_96001  \\\n",
       "0     62.000000      0   10511        -91      0          16          1   \n",
       "1     63.000000      0   10494        -77      0          16          0   \n",
       "2     69.000000      0   10565       -148      0          12          0   \n",
       "3     73.000000      0    8323        -97      0          19          0   \n",
       "4     77.000000      0   10444        -28      0          19          0   \n",
       "...         ...    ...     ...        ...    ...         ...        ...   \n",
       "2397  25.000000      0       0         -8      0           1          0   \n",
       "2398  22.000000      0       0         -6      0           1          0   \n",
       "2399  47.630565      0     441        -27      0           1          0   \n",
       "2400  47.630565      0    1064         -2      0           1          0   \n",
       "2401  47.630565      0     132          0      0           1          0   \n",
       "\n",
       "      Zip_96022  Zip_96073  Zip_96080  Zip_96099  \n",
       "0             0          0          0          0  \n",
       "1             0          0          0          0  \n",
       "2             0          0          0          0  \n",
       "3             0          0          0          0  \n",
       "4             0          0          0          0  \n",
       "...         ...        ...        ...        ...  \n",
       "2397          0          0          0          0  \n",
       "2398          0          0          0          0  \n",
       "2399          0          0          0          0  \n",
       "2400          0          0          0          0  \n",
       "2401          0          0          0          0  \n",
       "\n",
       "[2402 rows x 23 columns]"
      ]
     },
     "execution_count": 588,
     "metadata": {},
     "output_type": "execute_result"
    }
   ],
   "source": [
    "pat"
   ]
  },
  {
   "cell_type": "code",
   "execution_count": 655,
   "metadata": {},
   "outputs": [
    {
     "data": {
      "text/plain": [
       "ProvNum\n",
       "1     6379\n",
       "2     2846\n",
       "3        3\n",
       "4        5\n",
       "5       20\n",
       "6     1816\n",
       "7     1162\n",
       "8       10\n",
       "9        2\n",
       "10    4136\n",
       "12     288\n",
       "13     120\n",
       "14      31\n",
       "15    2482\n",
       "16       1\n",
       "19      45\n",
       "Name: AptNum, dtype: int64"
      ]
     },
     "execution_count": 655,
     "metadata": {},
     "output_type": "execute_result"
    }
   ],
   "source": [
    "appt.groupby('ProvNum')['AptNum'].count()"
   ]
  },
  {
   "cell_type": "code",
   "execution_count": 601,
   "metadata": {},
   "outputs": [
    {
     "data": {
      "text/plain": [
       "2402"
      ]
     },
     "execution_count": 601,
     "metadata": {},
     "output_type": "execute_result"
    }
   ],
   "source": [
    "appt['PatNum'].nunique()"
   ]
  },
  {
   "cell_type": "code",
   "execution_count": 603,
   "metadata": {},
   "outputs": [
    {
     "data": {
      "text/plain": [
       "1708"
      ]
     },
     "execution_count": 603,
     "metadata": {},
     "output_type": "execute_result"
    }
   ],
   "source": [
    "appt[appt['ProvNum'] == 1]['PatNum'].nunique()"
   ]
  },
  {
   "cell_type": "code",
   "execution_count": 604,
   "metadata": {},
   "outputs": [
    {
     "name": "stdout",
     "output_type": "stream",
     "text": [
      "1708\n",
      "1408\n",
      "1225\n",
      "1020\n",
      "859\n",
      "673\n"
     ]
    }
   ],
   "source": [
    "for x in [1, 10, 2, 15, 6, 7]:\n",
    "    value = appt[appt['ProvNum'] == x]['PatNum']"
   ]
  },
  {
   "cell_type": "code",
   "execution_count": 607,
   "metadata": {},
   "outputs": [],
   "source": [
    "provider_dict = {k:(appt[appt['ProvNum'] == k]['PatNum']).unique() for k in [1,10,2,15,6,7]}"
   ]
  },
  {
   "cell_type": "code",
   "execution_count": 610,
   "metadata": {},
   "outputs": [
    {
     "name": "stdout",
     "output_type": "stream",
     "text": [
      "1708\n",
      "1408\n",
      "1225\n",
      "1020\n",
      "859\n",
      "673\n"
     ]
    }
   ],
   "source": [
    "for x in provider_dict.values():\n",
    "    print(len(x))"
   ]
  },
  {
   "cell_type": "code",
   "execution_count": 626,
   "metadata": {},
   "outputs": [],
   "source": [
    "pat['seen_by_1'] =  np.where(pat['PatNum'].isin(provider_dict[1]), 1, 0)\n",
    "pat['seen_by_10'] =  np.where(pat['PatNum'].isin(provider_dict[10]), 1, 0)\n",
    "pat['seen_by_2'] =  np.where(pat['PatNum'].isin(provider_dict[2]), 1, 0)\n",
    "pat['seen_by_15'] =  np.where(pat['PatNum'].isin(provider_dict[15]), 1, 0)\n",
    "pat['seen_by_6'] =  np.where(pat['PatNum'].isin(provider_dict[6]), 1, 0)\n",
    "pat['seen_by_7'] =  np.where(pat['PatNum'].isin(provider_dict[7]), 1, 0)"
   ]
  },
  {
   "cell_type": "code",
   "execution_count": 632,
   "metadata": {},
   "outputs": [
    {
     "data": {
      "text/html": [
       "<div>\n",
       "<style scoped>\n",
       "    .dataframe tbody tr th:only-of-type {\n",
       "        vertical-align: middle;\n",
       "    }\n",
       "\n",
       "    .dataframe tbody tr th {\n",
       "        vertical-align: top;\n",
       "    }\n",
       "\n",
       "    .dataframe thead th {\n",
       "        text-align: right;\n",
       "    }\n",
       "</style>\n",
       "<table border=\"1\" class=\"dataframe\">\n",
       "  <thead>\n",
       "    <tr style=\"text-align: right;\">\n",
       "      <th></th>\n",
       "      <th>seen_by_1</th>\n",
       "      <th>seen_by_10</th>\n",
       "      <th>seen_by_2</th>\n",
       "      <th>seen_by_15</th>\n",
       "      <th>seen_by_6</th>\n",
       "      <th>seen_by_7</th>\n",
       "    </tr>\n",
       "  </thead>\n",
       "  <tbody>\n",
       "    <tr>\n",
       "      <th>count</th>\n",
       "      <td>1030.000000</td>\n",
       "      <td>1030.000000</td>\n",
       "      <td>1030.000000</td>\n",
       "      <td>1030.000000</td>\n",
       "      <td>1030.000000</td>\n",
       "      <td>1030.000000</td>\n",
       "    </tr>\n",
       "    <tr>\n",
       "      <th>mean</th>\n",
       "      <td>0.679612</td>\n",
       "      <td>0.288350</td>\n",
       "      <td>0.502913</td>\n",
       "      <td>0.164078</td>\n",
       "      <td>0.300971</td>\n",
       "      <td>0.147573</td>\n",
       "    </tr>\n",
       "    <tr>\n",
       "      <th>std</th>\n",
       "      <td>0.466853</td>\n",
       "      <td>0.453215</td>\n",
       "      <td>0.500234</td>\n",
       "      <td>0.370526</td>\n",
       "      <td>0.458903</td>\n",
       "      <td>0.354848</td>\n",
       "    </tr>\n",
       "    <tr>\n",
       "      <th>min</th>\n",
       "      <td>0.000000</td>\n",
       "      <td>0.000000</td>\n",
       "      <td>0.000000</td>\n",
       "      <td>0.000000</td>\n",
       "      <td>0.000000</td>\n",
       "      <td>0.000000</td>\n",
       "    </tr>\n",
       "    <tr>\n",
       "      <th>25%</th>\n",
       "      <td>0.000000</td>\n",
       "      <td>0.000000</td>\n",
       "      <td>0.000000</td>\n",
       "      <td>0.000000</td>\n",
       "      <td>0.000000</td>\n",
       "      <td>0.000000</td>\n",
       "    </tr>\n",
       "    <tr>\n",
       "      <th>50%</th>\n",
       "      <td>1.000000</td>\n",
       "      <td>0.000000</td>\n",
       "      <td>1.000000</td>\n",
       "      <td>0.000000</td>\n",
       "      <td>0.000000</td>\n",
       "      <td>0.000000</td>\n",
       "    </tr>\n",
       "    <tr>\n",
       "      <th>75%</th>\n",
       "      <td>1.000000</td>\n",
       "      <td>1.000000</td>\n",
       "      <td>1.000000</td>\n",
       "      <td>0.000000</td>\n",
       "      <td>1.000000</td>\n",
       "      <td>0.000000</td>\n",
       "    </tr>\n",
       "    <tr>\n",
       "      <th>max</th>\n",
       "      <td>1.000000</td>\n",
       "      <td>1.000000</td>\n",
       "      <td>1.000000</td>\n",
       "      <td>1.000000</td>\n",
       "      <td>1.000000</td>\n",
       "      <td>1.000000</td>\n",
       "    </tr>\n",
       "  </tbody>\n",
       "</table>\n",
       "</div>"
      ],
      "text/plain": [
       "         seen_by_1   seen_by_10    seen_by_2   seen_by_15    seen_by_6  \\\n",
       "count  1030.000000  1030.000000  1030.000000  1030.000000  1030.000000   \n",
       "mean      0.679612     0.288350     0.502913     0.164078     0.300971   \n",
       "std       0.466853     0.453215     0.500234     0.370526     0.458903   \n",
       "min       0.000000     0.000000     0.000000     0.000000     0.000000   \n",
       "25%       0.000000     0.000000     0.000000     0.000000     0.000000   \n",
       "50%       1.000000     0.000000     1.000000     0.000000     0.000000   \n",
       "75%       1.000000     1.000000     1.000000     0.000000     1.000000   \n",
       "max       1.000000     1.000000     1.000000     1.000000     1.000000   \n",
       "\n",
       "         seen_by_7  \n",
       "count  1030.000000  \n",
       "mean      0.147573  \n",
       "std       0.354848  \n",
       "min       0.000000  \n",
       "25%       0.000000  \n",
       "50%       0.000000  \n",
       "75%       0.000000  \n",
       "max       1.000000  "
      ]
     },
     "execution_count": 632,
     "metadata": {},
     "output_type": "execute_result"
    }
   ],
   "source": [
    "pat[pat['churn'] == 1].loc[:,'seen_by_1':'seen_by_7'].describe()"
   ]
  },
  {
   "cell_type": "code",
   "execution_count": 633,
   "metadata": {},
   "outputs": [
    {
     "data": {
      "text/html": [
       "<div>\n",
       "<style scoped>\n",
       "    .dataframe tbody tr th:only-of-type {\n",
       "        vertical-align: middle;\n",
       "    }\n",
       "\n",
       "    .dataframe tbody tr th {\n",
       "        vertical-align: top;\n",
       "    }\n",
       "\n",
       "    .dataframe thead th {\n",
       "        text-align: right;\n",
       "    }\n",
       "</style>\n",
       "<table border=\"1\" class=\"dataframe\">\n",
       "  <thead>\n",
       "    <tr style=\"text-align: right;\">\n",
       "      <th></th>\n",
       "      <th>seen_by_1</th>\n",
       "      <th>seen_by_10</th>\n",
       "      <th>seen_by_2</th>\n",
       "      <th>seen_by_15</th>\n",
       "      <th>seen_by_6</th>\n",
       "      <th>seen_by_7</th>\n",
       "    </tr>\n",
       "  </thead>\n",
       "  <tbody>\n",
       "    <tr>\n",
       "      <th>count</th>\n",
       "      <td>1372.000000</td>\n",
       "      <td>1372.000000</td>\n",
       "      <td>1372.000000</td>\n",
       "      <td>1372.000000</td>\n",
       "      <td>1372.000000</td>\n",
       "      <td>1372.000000</td>\n",
       "    </tr>\n",
       "    <tr>\n",
       "      <th>mean</th>\n",
       "      <td>0.734694</td>\n",
       "      <td>0.809767</td>\n",
       "      <td>0.515306</td>\n",
       "      <td>0.620262</td>\n",
       "      <td>0.400146</td>\n",
       "      <td>0.379738</td>\n",
       "    </tr>\n",
       "    <tr>\n",
       "      <th>std</th>\n",
       "      <td>0.441657</td>\n",
       "      <td>0.392628</td>\n",
       "      <td>0.499948</td>\n",
       "      <td>0.485498</td>\n",
       "      <td>0.490106</td>\n",
       "      <td>0.485498</td>\n",
       "    </tr>\n",
       "    <tr>\n",
       "      <th>min</th>\n",
       "      <td>0.000000</td>\n",
       "      <td>0.000000</td>\n",
       "      <td>0.000000</td>\n",
       "      <td>0.000000</td>\n",
       "      <td>0.000000</td>\n",
       "      <td>0.000000</td>\n",
       "    </tr>\n",
       "    <tr>\n",
       "      <th>25%</th>\n",
       "      <td>0.000000</td>\n",
       "      <td>1.000000</td>\n",
       "      <td>0.000000</td>\n",
       "      <td>0.000000</td>\n",
       "      <td>0.000000</td>\n",
       "      <td>0.000000</td>\n",
       "    </tr>\n",
       "    <tr>\n",
       "      <th>50%</th>\n",
       "      <td>1.000000</td>\n",
       "      <td>1.000000</td>\n",
       "      <td>1.000000</td>\n",
       "      <td>1.000000</td>\n",
       "      <td>0.000000</td>\n",
       "      <td>0.000000</td>\n",
       "    </tr>\n",
       "    <tr>\n",
       "      <th>75%</th>\n",
       "      <td>1.000000</td>\n",
       "      <td>1.000000</td>\n",
       "      <td>1.000000</td>\n",
       "      <td>1.000000</td>\n",
       "      <td>1.000000</td>\n",
       "      <td>1.000000</td>\n",
       "    </tr>\n",
       "    <tr>\n",
       "      <th>max</th>\n",
       "      <td>1.000000</td>\n",
       "      <td>1.000000</td>\n",
       "      <td>1.000000</td>\n",
       "      <td>1.000000</td>\n",
       "      <td>1.000000</td>\n",
       "      <td>1.000000</td>\n",
       "    </tr>\n",
       "  </tbody>\n",
       "</table>\n",
       "</div>"
      ],
      "text/plain": [
       "         seen_by_1   seen_by_10    seen_by_2   seen_by_15    seen_by_6  \\\n",
       "count  1372.000000  1372.000000  1372.000000  1372.000000  1372.000000   \n",
       "mean      0.734694     0.809767     0.515306     0.620262     0.400146   \n",
       "std       0.441657     0.392628     0.499948     0.485498     0.490106   \n",
       "min       0.000000     0.000000     0.000000     0.000000     0.000000   \n",
       "25%       0.000000     1.000000     0.000000     0.000000     0.000000   \n",
       "50%       1.000000     1.000000     1.000000     1.000000     0.000000   \n",
       "75%       1.000000     1.000000     1.000000     1.000000     1.000000   \n",
       "max       1.000000     1.000000     1.000000     1.000000     1.000000   \n",
       "\n",
       "         seen_by_7  \n",
       "count  1372.000000  \n",
       "mean      0.379738  \n",
       "std       0.485498  \n",
       "min       0.000000  \n",
       "25%       0.000000  \n",
       "50%       0.000000  \n",
       "75%       1.000000  \n",
       "max       1.000000  "
      ]
     },
     "execution_count": 633,
     "metadata": {},
     "output_type": "execute_result"
    }
   ],
   "source": [
    "pat[pat['churn'] == 0].loc[:,'seen_by_1':'seen_by_7'].describe()"
   ]
  },
  {
   "cell_type": "code",
   "execution_count": 660,
   "metadata": {},
   "outputs": [],
   "source": [
    "seen_cols = pat.loc[:, 'seen_by_1':].columns.tolist()"
   ]
  },
  {
   "cell_type": "code",
   "execution_count": 682,
   "metadata": {},
   "outputs": [],
   "source": [
    "def churn_rate(df, cols):\n",
    "    churn_dict = {}\n",
    "    for col in cols:\n",
    "        total = sum(df[col])\n",
    "        non_churn = df[df['churn']==0][col].sum()\n",
    "        churn = df[df['churn']==1][col].sum()\n",
    "        rate = round(churn/total, 2)\n",
    "        churn_dict[col] = (total, churn, non_churn, rate)\n",
    "    return churn_dict"
   ]
  },
  {
   "cell_type": "code",
   "execution_count": 683,
   "metadata": {},
   "outputs": [
    {
     "data": {
      "text/html": [
       "<div>\n",
       "<style scoped>\n",
       "    .dataframe tbody tr th:only-of-type {\n",
       "        vertical-align: middle;\n",
       "    }\n",
       "\n",
       "    .dataframe tbody tr th {\n",
       "        vertical-align: top;\n",
       "    }\n",
       "\n",
       "    .dataframe thead th {\n",
       "        text-align: right;\n",
       "    }\n",
       "</style>\n",
       "<table border=\"1\" class=\"dataframe\">\n",
       "  <thead>\n",
       "    <tr style=\"text-align: right;\">\n",
       "      <th></th>\n",
       "      <th>Total Seen</th>\n",
       "      <th>churned</th>\n",
       "      <th>non_churned</th>\n",
       "      <th>churn_rate</th>\n",
       "    </tr>\n",
       "  </thead>\n",
       "  <tbody>\n",
       "    <tr>\n",
       "      <th>seen_by_2</th>\n",
       "      <td>1225</td>\n",
       "      <td>518</td>\n",
       "      <td>707</td>\n",
       "      <td>0.42</td>\n",
       "    </tr>\n",
       "    <tr>\n",
       "      <th>seen_by_1</th>\n",
       "      <td>1708</td>\n",
       "      <td>700</td>\n",
       "      <td>1008</td>\n",
       "      <td>0.41</td>\n",
       "    </tr>\n",
       "    <tr>\n",
       "      <th>seen_by_6</th>\n",
       "      <td>859</td>\n",
       "      <td>310</td>\n",
       "      <td>549</td>\n",
       "      <td>0.36</td>\n",
       "    </tr>\n",
       "    <tr>\n",
       "      <th>seen_by_7</th>\n",
       "      <td>673</td>\n",
       "      <td>152</td>\n",
       "      <td>521</td>\n",
       "      <td>0.23</td>\n",
       "    </tr>\n",
       "    <tr>\n",
       "      <th>seen_by_10</th>\n",
       "      <td>1408</td>\n",
       "      <td>297</td>\n",
       "      <td>1111</td>\n",
       "      <td>0.21</td>\n",
       "    </tr>\n",
       "    <tr>\n",
       "      <th>seen_by_15</th>\n",
       "      <td>1020</td>\n",
       "      <td>169</td>\n",
       "      <td>851</td>\n",
       "      <td>0.17</td>\n",
       "    </tr>\n",
       "  </tbody>\n",
       "</table>\n",
       "</div>"
      ],
      "text/plain": [
       "            Total Seen  churned  non_churned  churn_rate\n",
       "seen_by_2         1225      518          707        0.42\n",
       "seen_by_1         1708      700         1008        0.41\n",
       "seen_by_6          859      310          549        0.36\n",
       "seen_by_7          673      152          521        0.23\n",
       "seen_by_10        1408      297         1111        0.21\n",
       "seen_by_15        1020      169          851        0.17"
      ]
     },
     "execution_count": 683,
     "metadata": {},
     "output_type": "execute_result"
    }
   ],
   "source": [
    "test = churn_rate(pat, seen_cols)\n",
    "pd.DataFrame().from_dict(test, orient='index', columns=['Total Seen', 'churned', 'non_churned', 'churn_rate']).sort_values('churn_rate', ascending=False)"
   ]
  },
  {
   "cell_type": "code",
   "execution_count": 692,
   "metadata": {},
   "outputs": [
    {
     "name": "stdout",
     "output_type": "stream",
     "text": [
      "Churn Rate over 2016-2020 Time Period: 43.0%\n"
     ]
    }
   ],
   "source": [
    "churn_rate_through_2016 = pat.churn.sum()/len(pat)\n",
    "print(f'Churn Rate over 2016-2020 Time Period: {round(churn_rate_through_2016, 2)*100}%')"
   ]
  },
  {
   "cell_type": "code",
   "execution_count": null,
   "metadata": {},
   "outputs": [],
   "source": []
  }
 ],
 "metadata": {
  "kernelspec": {
   "display_name": "Python 3",
   "language": "python",
   "name": "python3"
  },
  "language_info": {
   "codemirror_mode": {
    "name": "ipython",
    "version": 3
   },
   "file_extension": ".py",
   "mimetype": "text/x-python",
   "name": "python",
   "nbconvert_exporter": "python",
   "pygments_lexer": "ipython3",
   "version": "3.8.3"
  }
 },
 "nbformat": 4,
 "nbformat_minor": 4
}
